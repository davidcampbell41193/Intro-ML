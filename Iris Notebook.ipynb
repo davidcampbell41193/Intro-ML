{
 "cells": [
  {
   "cell_type": "markdown",
   "id": "c8eb1944",
   "metadata": {},
   "source": [
    "# Comparing the Performance of a Decision Tree Classifier\n",
    "## Criterion: Entropy and Gini Index\n",
    "## Performance Metrics: Mean Absolute Error (MAE) and Mean Squared Error (MSE)\n",
    "\n",
    "When building a decision tree classifier to model a data set (such as iris data), the goal is to maximize the information gained after the data is split into two nodes. Information gained can be calculated using two different criterion: (1) entropy and (2) the gini index. Both criterion are supported by the decision tree classifier class in sklearn.\n",
    "\n",
    "\\begin{gather*}\n",
    "entropy= \\sum_n p_n * log_2 ( p_n)\\\\\n",
    "gini \\: index = 1 - \\sum_n p_n^2\\\\\n",
    "p_n= probability\n",
    "\\end{gather*}\n",
    "\n",
    "\n",
    "Once a model is determined from the training data, using a specific criterion, it need to be evalued based on how close its predctions are to the validation data. \"Closeness\" can be determined using two different metrics: (1) Mean Absolute Error and (2) mean squared error.\n",
    "\n",
    "\n",
    "\\begin{gather*}\n",
    "MAE=\\frac{\\sum_{n=1}^N|y_i - x_i|}{N}\\\\\n",
    "MSE=\\frac{\\sum_{n=1}^N(y_i - x_i)^2}{N}\\\\\n",
    "x_i = predicted \\\\\n",
    "y_i = true \\; value \\\\\n",
    "N = total \\: number \\: of \\: data \\: points\n",
    "\\end{gather*}\n"
   ]
  },
  {
   "cell_type": "code",
   "execution_count": 2,
   "id": "de494be6",
   "metadata": {},
   "outputs": [],
   "source": [
    "from sklearn.datasets import load_iris\n",
    "from sklearn import tree\n",
    "iris = load_iris()\n",
    "X, y = iris.data, iris.target\n",
    "clf = tree.DecisionTreeClassifier()\n",
    "clf = clf.fit(X, y)\n",
    "\n",
    "# Train the model on a portion of the data.\n",
    "# To figure this out flow the intro to ML Keggle tutorial"
   ]
  },
  {
   "cell_type": "markdown",
   "id": "db87b1db",
   "metadata": {},
   "source": [
    "Alternatively the iris dataset can be imported into a DataFrame from a CSV file using Pandas. "
   ]
  },
  {
   "cell_type": "code",
   "execution_count": 3,
   "id": "44cbf180",
   "metadata": {},
   "outputs": [],
   "source": [
    "#import pandas as pd\n",
    "#import numpy as np\n",
    "\n",
    "#col_names = ['sepal_length', 'sepal_width', 'petal_length', 'petal_width', 'type']\n",
    "#data = pd.read_csv('GitHub_Iris.csv')\n",
    "#data = pd.read_csv('Kaggle_Iris.csv')\n",
    "\n",
    "#data.head()\n",
    "\n",
    "#data.iloc[:, -1].value_counts()\n",
    "\n",
    "\n",
    "#X = data.iloc[:, :-1]\n",
    "#y = data.iloc[:, -1:]"
   ]
  },
  {
   "cell_type": "markdown",
   "id": "f8fe96db",
   "metadata": {},
   "source": [
    "## Split into Training and Validation Datasets"
   ]
  },
  {
   "cell_type": "code",
   "execution_count": 8,
   "id": "551c87de",
   "metadata": {},
   "outputs": [],
   "source": [
    "from sklearn.model_selection import train_test_split\n",
    "from sklearn.metrics import mean_squared_error\n",
    "from sklearn.metrics import mean_absolute_error\n",
    "\n",
    "\n",
    "train_X, val_X, train_y, val_y = train_test_split(X, y, random_state=42, test_size=0.33)"
   ]
  },
  {
   "cell_type": "markdown",
   "id": "8c16d78e",
   "metadata": {},
   "source": [
    "## criterion='gini'"
   ]
  },
  {
   "cell_type": "code",
   "execution_count": 9,
   "id": "665bb207",
   "metadata": {},
   "outputs": [
    {
     "name": "stdout",
     "output_type": "stream",
     "text": [
      "Mean absolute error is: 0.02\n",
      "Mean squared error is: 0.02\n"
     ]
    }
   ],
   "source": [
    "model_gini = tree.DecisionTreeClassifier(criterion='gini' , random_state=1)\n",
    "model_gini.fit(train_X, train_y)\n",
    "\n",
    "val_predictions = model_gini.predict(val_X)\n",
    "\n",
    "gini_MAE = mean_absolute_error(val_y, val_predictions)\n",
    "gini_MSE = mean_squared_error(val_y, val_predictions)\n",
    "\n",
    "print('Mean absolute error is:' , gini_MAE)\n",
    "print('Mean squared error is:' , gini_MSE)"
   ]
  },
  {
   "cell_type": "markdown",
   "id": "77175e0d",
   "metadata": {},
   "source": [
    "## criterion='entropy'"
   ]
  },
  {
   "cell_type": "code",
   "execution_count": 10,
   "id": "d7eae32a",
   "metadata": {},
   "outputs": [
    {
     "name": "stdout",
     "output_type": "stream",
     "text": [
      "Mean absolute error is: 0.02\n",
      "Mean squared error is: 0.02\n"
     ]
    }
   ],
   "source": [
    "model_entropy = tree.DecisionTreeClassifier(criterion='entropy',random_state=1)\n",
    "model_entropy.fit(train_X, train_y)\n",
    "\n",
    "val_predictions = model_entropy.predict(val_X)\n",
    "\n",
    "entropy_MAE = mean_absolute_error(val_y, val_predictions)\n",
    "entropy_MSE = mean_squared_error(val_y, val_predictions)\n",
    "\n",
    "print('Mean absolute error is:' , entropy_MAE)\n",
    "print('Mean squared error is:' , entropy_MSE)"
   ]
  },
  {
   "cell_type": "markdown",
   "id": "e9fa120f",
   "metadata": {},
   "source": [
    "## Mean Squared Error"
   ]
  },
  {
   "cell_type": "code",
   "execution_count": 11,
   "id": "89dd0adc",
   "metadata": {},
   "outputs": [
    {
     "data": {
      "text/plain": [
       "True"
      ]
     },
     "execution_count": 11,
     "metadata": {},
     "output_type": "execute_result"
    }
   ],
   "source": [
    "entropy_MSE == gini_MAE"
   ]
  },
  {
   "cell_type": "code",
   "execution_count": null,
   "id": "01f0dfcb",
   "metadata": {},
   "outputs": [],
   "source": []
  },
  {
   "cell_type": "code",
   "execution_count": null,
   "id": "f76ef349",
   "metadata": {},
   "outputs": [],
   "source": []
  },
  {
   "cell_type": "code",
   "execution_count": null,
   "id": "2b7e0fd5",
   "metadata": {},
   "outputs": [],
   "source": []
  },
  {
   "cell_type": "markdown",
   "id": "b28833c7",
   "metadata": {},
   "source": [
    "# Summary"
   ]
  },
  {
   "cell_type": "markdown",
   "id": "942afa2a",
   "metadata": {},
   "source": [
    "Write a summary ...\n",
    "\n",
    "Unlikely senerio"
   ]
  }
 ],
 "metadata": {
  "kernelspec": {
   "display_name": "Python 3 (ipykernel)",
   "language": "python",
   "name": "python3"
  },
  "language_info": {
   "codemirror_mode": {
    "name": "ipython",
    "version": 3
   },
   "file_extension": ".py",
   "mimetype": "text/x-python",
   "name": "python",
   "nbconvert_exporter": "python",
   "pygments_lexer": "ipython3",
   "version": "3.8.10"
  }
 },
 "nbformat": 4,
 "nbformat_minor": 5
}
