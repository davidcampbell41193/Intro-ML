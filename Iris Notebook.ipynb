{
 "cells": [
  {
   "cell_type": "markdown",
   "id": "c8eb1944",
   "metadata": {},
   "source": [
    "# Comparing the Performance of a Decision Tree Classifier\n",
    "## Criterion: Entropy and Gini Index\n",
    "\n",
    "\n",
    "When building a decision tree classifier to model a data set (such as iris data), the goal is to maximize the information gained after the data is split into two nodes. Information gained can be calculated using two different criterion: (1) entropy and (2) the gini index. Both criterion are supported by the decision tree classifier class in sklearn.\n",
    "\n",
    "\\begin{gather*}\n",
    "entropy= \\sum_n p_n * log_2 ( p_n)\\\\\n",
    "gini \\: index = 1 - \\sum_n p_n^2\\\\\n",
    "p_n= probability\n",
    "\\end{gather*}\n",
    "\n",
    "## Performance Metrics: Mean Absolute Error (MAE) and Mean Squared Error (MSE)\n",
    "\n",
    "Once a model is determined from the training data, using a specific criterion, it need to be evalued based on how close its predctions are to the validation data. \"Closeness\" can be determined using two different metrics: (1) Mean Absolute Error (MAE) and (2) mean squared error (MSE). Let $x_i$ be the predicted value, $y_i$ be the true value, and $N$ be the total number of data points. \n",
    "\n",
    "\\begin{gather*}\n",
    "MAE=\\frac{1}{N} \\sum_{n=1}^N|y_i - x_i|\\\\\n",
    "MSE=\\frac{1}{N} \\sum_{n=1}^N(y_i - x_i)^2\n",
    "\\end{gather*}"
   ]
  },
  {
   "cell_type": "code",
   "execution_count": 10,
   "id": "de494be6",
   "metadata": {},
   "outputs": [],
   "source": [
    "from sklearn.datasets import load_iris\n",
    "from sklearn import tree\n",
    "\n",
    "iris = load_iris()\n",
    "X, y = iris.data, iris.target\n",
    "clf = tree.DecisionTreeClassifier()\n",
    "clf = clf.fit(X, y)"
   ]
  },
  {
   "cell_type": "markdown",
   "id": "db87b1db",
   "metadata": {},
   "source": [
    "Alternatively the iris dataset can be imported into a DataFrame from a CSV file using Pandas. We are not going to the data analysis with Pandas Data Frame. We will print it out for visualization purposes."
   ]
  },
  {
   "cell_type": "code",
   "execution_count": 11,
   "id": "44cbf180",
   "metadata": {},
   "outputs": [
    {
     "data": {
      "text/html": [
       "<div>\n",
       "<style scoped>\n",
       "    .dataframe tbody tr th:only-of-type {\n",
       "        vertical-align: middle;\n",
       "    }\n",
       "\n",
       "    .dataframe tbody tr th {\n",
       "        vertical-align: top;\n",
       "    }\n",
       "\n",
       "    .dataframe thead th {\n",
       "        text-align: right;\n",
       "    }\n",
       "</style>\n",
       "<table border=\"1\" class=\"dataframe\">\n",
       "  <thead>\n",
       "    <tr style=\"text-align: right;\">\n",
       "      <th></th>\n",
       "      <th>SepalLengthCm</th>\n",
       "      <th>SepalWidthCm</th>\n",
       "      <th>PetalLengthCm</th>\n",
       "      <th>PetalWidthCm</th>\n",
       "      <th>Species</th>\n",
       "    </tr>\n",
       "    <tr>\n",
       "      <th>Id</th>\n",
       "      <th></th>\n",
       "      <th></th>\n",
       "      <th></th>\n",
       "      <th></th>\n",
       "      <th></th>\n",
       "    </tr>\n",
       "  </thead>\n",
       "  <tbody>\n",
       "    <tr>\n",
       "      <th>146</th>\n",
       "      <td>6.7</td>\n",
       "      <td>3.0</td>\n",
       "      <td>5.2</td>\n",
       "      <td>2.3</td>\n",
       "      <td>Iris-virginica</td>\n",
       "    </tr>\n",
       "    <tr>\n",
       "      <th>147</th>\n",
       "      <td>6.3</td>\n",
       "      <td>2.5</td>\n",
       "      <td>5.0</td>\n",
       "      <td>1.9</td>\n",
       "      <td>Iris-virginica</td>\n",
       "    </tr>\n",
       "    <tr>\n",
       "      <th>148</th>\n",
       "      <td>6.5</td>\n",
       "      <td>3.0</td>\n",
       "      <td>5.2</td>\n",
       "      <td>2.0</td>\n",
       "      <td>Iris-virginica</td>\n",
       "    </tr>\n",
       "    <tr>\n",
       "      <th>149</th>\n",
       "      <td>6.2</td>\n",
       "      <td>3.4</td>\n",
       "      <td>5.4</td>\n",
       "      <td>2.3</td>\n",
       "      <td>Iris-virginica</td>\n",
       "    </tr>\n",
       "    <tr>\n",
       "      <th>150</th>\n",
       "      <td>5.9</td>\n",
       "      <td>3.0</td>\n",
       "      <td>5.1</td>\n",
       "      <td>1.8</td>\n",
       "      <td>Iris-virginica</td>\n",
       "    </tr>\n",
       "  </tbody>\n",
       "</table>\n",
       "</div>"
      ],
      "text/plain": [
       "     SepalLengthCm  SepalWidthCm  PetalLengthCm  PetalWidthCm         Species\n",
       "Id                                                                           \n",
       "146            6.7           3.0            5.2           2.3  Iris-virginica\n",
       "147            6.3           2.5            5.0           1.9  Iris-virginica\n",
       "148            6.5           3.0            5.2           2.0  Iris-virginica\n",
       "149            6.2           3.4            5.4           2.3  Iris-virginica\n",
       "150            5.9           3.0            5.1           1.8  Iris-virginica"
      ]
     },
     "execution_count": 11,
     "metadata": {},
     "output_type": "execute_result"
    }
   ],
   "source": [
    "import pandas as pd\n",
    "import numpy as np\n",
    "\n",
    "col_names = ['sepal_length', 'sepal_width', 'petal_length', 'petal_width', 'type']\n",
    "#data = pd.read_csv('GitHub_Iris.csv')\n",
    "data = pd.read_csv('Kaggle_Iris.csv', index_col='Id')\n",
    "\n",
    "data.tail()\n",
    "\n",
    "#data.iloc[:, -1].value_counts()\n",
    "\n",
    "\n",
    "#X = data.iloc[:, :-1]\n",
    "#y = data.iloc[:, -1:]"
   ]
  },
  {
   "cell_type": "markdown",
   "id": "f8fe96db",
   "metadata": {},
   "source": [
    "## Split into Training and Validation Datasets"
   ]
  },
  {
   "cell_type": "code",
   "execution_count": 12,
   "id": "551c87de",
   "metadata": {},
   "outputs": [],
   "source": [
    "from sklearn.model_selection import train_test_split\n",
    "from sklearn.metrics import mean_squared_error, mean_absolute_error\n",
    "\n",
    "#train_X, val_X, train_y, val_y = train_test_split(X, y, random_state=42, test_size=0.33)\n",
    "train_X, val_X, train_y, val_y = train_test_split(X, y, random_state=1)"
   ]
  },
  {
   "cell_type": "markdown",
   "id": "8c16d78e",
   "metadata": {},
   "source": [
    "## criterion='gini'"
   ]
  },
  {
   "cell_type": "code",
   "execution_count": 13,
   "id": "665bb207",
   "metadata": {},
   "outputs": [
    {
     "name": "stdout",
     "output_type": "stream",
     "text": [
      "Mean absolute error is: 0.02631578947368421\n",
      "Mean squared error is: 0.02631578947368421\n"
     ]
    }
   ],
   "source": [
    "model_gini = tree.DecisionTreeClassifier(criterion='gini' , random_state=1)\n",
    "model_gini.fit(train_X, train_y)\n",
    "\n",
    "gini_val_predictions = model_gini.predict(val_X)\n",
    "\n",
    "gini_MAE = mean_absolute_error(val_y, gini_val_predictions)\n",
    "gini_MSE = mean_squared_error(val_y, gini_val_predictions)\n",
    "\n",
    "print('Mean absolute error is:' , gini_MAE)\n",
    "print('Mean squared error is:' , gini_MSE)"
   ]
  },
  {
   "cell_type": "markdown",
   "id": "77175e0d",
   "metadata": {},
   "source": [
    "## criterion='entropy'"
   ]
  },
  {
   "cell_type": "code",
   "execution_count": 14,
   "id": "d7eae32a",
   "metadata": {},
   "outputs": [
    {
     "name": "stdout",
     "output_type": "stream",
     "text": [
      "Mean absolute error is: 0.02631578947368421\n",
      "Mean squared error is: 0.02631578947368421\n"
     ]
    }
   ],
   "source": [
    "model_entropy = tree.DecisionTreeClassifier(criterion='entropy',random_state=1)\n",
    "model_entropy.fit(train_X, train_y)\n",
    "\n",
    "entropy_val_predictions = model_entropy.predict(val_X)\n",
    "\n",
    "entropy_MAE = mean_absolute_error(val_y, entropy_val_predictions)\n",
    "entropy_MSE = mean_squared_error(val_y, entropy_val_predictions)\n",
    "\n",
    "print('Mean absolute error is:' , entropy_MAE)\n",
    "print('Mean squared error is:' , entropy_MSE)"
   ]
  },
  {
   "cell_type": "markdown",
   "id": "b28833c7",
   "metadata": {},
   "source": [
    "# Summary"
   ]
  },
  {
   "cell_type": "markdown",
   "id": "942afa2a",
   "metadata": {},
   "source": [
    "It is possible for the Mean Absolute Error and Mean Squared Error to be equal. Let begin by defining the error in the error in the $ith$ data point as $r_i = |y_i - x_i|$, and the error vector $r = [r_1,...,r_N]^T$. Where $x_i = predicted$ and $y_i = true \\: value$. Then the Mean Absolute Error (MAE) and Mean Squared Error (MSE) can be written as \n",
    "\n",
    "\\begin{gather*}\n",
    "MAE=\\frac{1}{N}\\vec{1}^T r\\\\\n",
    "MSE=\\frac{1}{N}r^Tr .\n",
    "\\end{gather*}\n",
    "\n",
    "Setting the $MAE=MSE$ leads to the following equation\n",
    "\n",
    "\\begin{gather*}\n",
    "\\left(r - \\vec{1} \\right)^Tr = 0.\n",
    "\\end{gather*}\n",
    "\n",
    "Therefore, the $MAE=MSE$ if and only if $r=\\vec{0},\\vec{1}$. This argument follows the arguments maded by the stack exchange link below.\n",
    "\n",
    "https://stats.stackexchange.com/questions/423514/can-rmse-and-mae-have-the-same-value\n"
   ]
  },
  {
   "cell_type": "markdown",
   "id": "6d5a76e6",
   "metadata": {},
   "source": [
    "## Gini Error Analysis"
   ]
  },
  {
   "cell_type": "code",
   "execution_count": 19,
   "id": "cf6db288",
   "metadata": {},
   "outputs": [
    {
     "name": "stdout",
     "output_type": "stream",
     "text": [
      "The error vector the the gini index \n",
      " [0 0 0 0 0 0 0 0 0 0 0 0 0 0 0 0 0 0 0 0 0 0 1 0 0 0 0 0 0 0 0 0 0 0 0 0 0\n",
      " 0]\n",
      "The error occured at index:\n",
      "  22\n"
     ]
    }
   ],
   "source": [
    "gini_error = gini_val_predictions - val_y\n",
    "#gini_error = val_y - gini_val_predictions\n",
    "\n",
    "error_index_gini = gini_error.argmax()\n",
    "\n",
    "print( 'The error vector the the gini index \\n' , gini_error )\n",
    "print( 'The error occured at index:\\n ', error_index_gini)"
   ]
  },
  {
   "cell_type": "markdown",
   "id": "7eb258bd",
   "metadata": {},
   "source": [
    "### Calculate MAE and MSE from the error vector."
   ]
  },
  {
   "cell_type": "code",
   "execution_count": 16,
   "id": "c83d6b3e",
   "metadata": {},
   "outputs": [
    {
     "name": "stdout",
     "output_type": "stream",
     "text": [
      "0.02631578947368421 0.02631578947368421\n"
     ]
    }
   ],
   "source": [
    "from numpy import inner\n",
    "\n",
    "N = len(gini_error)\n",
    "\n",
    "MAE = gini_error.sum()/N\n",
    "MSE = inner(gini_error, gini_error)/N\n",
    "\n",
    "print(MAE,MSE)"
   ]
  },
  {
   "cell_type": "markdown",
   "id": "114f4956",
   "metadata": {},
   "source": [
    "## Entropy Error Analysis"
   ]
  },
  {
   "cell_type": "code",
   "execution_count": 17,
   "id": "04016e3c",
   "metadata": {},
   "outputs": [
    {
     "name": "stdout",
     "output_type": "stream",
     "text": [
      "The error vector for the entropoy \n",
      " [0 0 0 0 0 0 0 0 0 0 0 0 0 0 0 0 0 0 0 0 0 0 1 0 0 0 0 0 0 0 0 0 0 0 0 0 0\n",
      " 0]\n",
      "The error occured at index:\n",
      "  22\n"
     ]
    }
   ],
   "source": [
    "entropy_error = entropy_val_predictions - val_y\n",
    "#entropy_error = val_y - entropy_val_predictions\n",
    "\n",
    "error_index_entropy = entropy_error.argmax()\n",
    "\n",
    "print( 'The error vector for the entropoy \\n' , entropy_error )\n",
    "print( 'The error occured at index:\\n ', error_index_entropy)"
   ]
  },
  {
   "cell_type": "markdown",
   "id": "b8caf5cc",
   "metadata": {},
   "source": [
    "### Calculate MAE and MSE from error vector."
   ]
  },
  {
   "cell_type": "code",
   "execution_count": 66,
   "id": "51016cd4",
   "metadata": {},
   "outputs": [
    {
     "name": "stdout",
     "output_type": "stream",
     "text": [
      "0.02631578947368421 0.02631578947368421\n"
     ]
    }
   ],
   "source": [
    "N = len(entropy_error)\n",
    "\n",
    "MAE = entropy_error.sum()/N\n",
    "MSE = inner(entropy_error, entropy_error)/N\n",
    "\n",
    "print(MAE,MSE)"
   ]
  },
  {
   "cell_type": "markdown",
   "id": "5fbd1d0a",
   "metadata": {},
   "source": [
    "We can clearly see that the error vectors are very \"close\" to zero with the exception of one element. Calculating MSE and MAE direclty we again see that they are equal. This ultimatley the result of $1^2=1$, and the vectors having the same length."
   ]
  },
  {
   "cell_type": "markdown",
   "id": "c001980c",
   "metadata": {},
   "source": [
    "# Decision Tree Visualization\n",
    "\n",
    "For both the Gini Index and entropy criterion we see that the "
   ]
  },
  {
   "cell_type": "code",
   "execution_count": null,
   "id": "0cbac4dc",
   "metadata": {},
   "outputs": [],
   "source": []
  },
  {
   "cell_type": "code",
   "execution_count": null,
   "id": "a3e25c52",
   "metadata": {},
   "outputs": [],
   "source": []
  }
 ],
 "metadata": {
  "kernelspec": {
   "display_name": "Python 3 (ipykernel)",
   "language": "python",
   "name": "python3"
  },
  "language_info": {
   "codemirror_mode": {
    "name": "ipython",
    "version": 3
   },
   "file_extension": ".py",
   "mimetype": "text/x-python",
   "name": "python",
   "nbconvert_exporter": "python",
   "pygments_lexer": "ipython3",
   "version": "3.8.10"
  }
 },
 "nbformat": 4,
 "nbformat_minor": 5
}
